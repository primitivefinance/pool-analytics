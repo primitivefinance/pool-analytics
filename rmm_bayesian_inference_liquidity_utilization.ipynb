{
  "nbformat": 4,
  "nbformat_minor": 0,
  "metadata": {
    "colab": {
      "name": "rmm_bayesian_analytics.ipynb",
      "provenance": [],
      "collapsed_sections": []
    },
    "kernelspec": {
      "name": "python3",
      "display_name": "Python 3"
    },
    "language_info": {
      "name": "python"
    },
    "widgets": {
      "application/vnd.jupyter.widget-state+json": {
        "70781f07d986419abfe9ac86c78696da": {
          "model_module": "@jupyter-widgets/controls",
          "model_name": "HBoxModel",
          "model_module_version": "1.5.0",
          "state": {
            "_dom_classes": [],
            "_model_module": "@jupyter-widgets/controls",
            "_model_module_version": "1.5.0",
            "_model_name": "HBoxModel",
            "_view_count": null,
            "_view_module": "@jupyter-widgets/controls",
            "_view_module_version": "1.5.0",
            "_view_name": "HBoxView",
            "box_style": "",
            "children": [
              "IPY_MODEL_a27f8ac300524ce881b5e57761943e57",
              "IPY_MODEL_f57a7325017b4d9c83b022634087e688",
              "IPY_MODEL_c29a838f1b0d4894a7bad4e9325e9d43"
            ],
            "layout": "IPY_MODEL_c4fc3b2c6522444cbba5787361c39f59"
          }
        },
        "a27f8ac300524ce881b5e57761943e57": {
          "model_module": "@jupyter-widgets/controls",
          "model_name": "HTMLModel",
          "model_module_version": "1.5.0",
          "state": {
            "_dom_classes": [],
            "_model_module": "@jupyter-widgets/controls",
            "_model_module_version": "1.5.0",
            "_model_name": "HTMLModel",
            "_view_count": null,
            "_view_module": "@jupyter-widgets/controls",
            "_view_module_version": "1.5.0",
            "_view_name": "HTMLView",
            "description": "",
            "description_tooltip": null,
            "layout": "IPY_MODEL_1049427a755243cf84bdcb5f217a3ff3",
            "placeholder": "​",
            "style": "IPY_MODEL_cca832bdab144080a4f29df5e765669b",
            "value": "chain 1 "
          }
        },
        "f57a7325017b4d9c83b022634087e688": {
          "model_module": "@jupyter-widgets/controls",
          "model_name": "FloatProgressModel",
          "model_module_version": "1.5.0",
          "state": {
            "_dom_classes": [],
            "_model_module": "@jupyter-widgets/controls",
            "_model_module_version": "1.5.0",
            "_model_name": "FloatProgressModel",
            "_view_count": null,
            "_view_module": "@jupyter-widgets/controls",
            "_view_module_version": "1.5.0",
            "_view_name": "ProgressView",
            "bar_style": "success",
            "description": "",
            "description_tooltip": null,
            "layout": "IPY_MODEL_be1f0e120f6140269b195f59612330dc",
            "max": 12,
            "min": 0,
            "orientation": "horizontal",
            "style": "IPY_MODEL_5fc67f4422e24dc48dc4d3701e21ad81",
            "value": 12
          }
        },
        "c29a838f1b0d4894a7bad4e9325e9d43": {
          "model_module": "@jupyter-widgets/controls",
          "model_name": "HTMLModel",
          "model_module_version": "1.5.0",
          "state": {
            "_dom_classes": [],
            "_model_module": "@jupyter-widgets/controls",
            "_model_module_version": "1.5.0",
            "_model_name": "HTMLModel",
            "_view_count": null,
            "_view_module": "@jupyter-widgets/controls",
            "_view_module_version": "1.5.0",
            "_view_name": "HTMLView",
            "description": "",
            "description_tooltip": null,
            "layout": "IPY_MODEL_2777a4e7de6f4d77a916c7ca7140b112",
            "placeholder": "​",
            "style": "IPY_MODEL_769d4e9780a6428097d8c168f732e8e2",
            "value": " 00:00 Sampling completed"
          }
        },
        "c4fc3b2c6522444cbba5787361c39f59": {
          "model_module": "@jupyter-widgets/base",
          "model_name": "LayoutModel",
          "model_module_version": "1.2.0",
          "state": {
            "_model_module": "@jupyter-widgets/base",
            "_model_module_version": "1.2.0",
            "_model_name": "LayoutModel",
            "_view_count": null,
            "_view_module": "@jupyter-widgets/base",
            "_view_module_version": "1.2.0",
            "_view_name": "LayoutView",
            "align_content": null,
            "align_items": null,
            "align_self": null,
            "border": null,
            "bottom": null,
            "display": null,
            "flex": null,
            "flex_flow": null,
            "grid_area": null,
            "grid_auto_columns": null,
            "grid_auto_flow": null,
            "grid_auto_rows": null,
            "grid_column": null,
            "grid_gap": null,
            "grid_row": null,
            "grid_template_areas": null,
            "grid_template_columns": null,
            "grid_template_rows": null,
            "height": null,
            "justify_content": null,
            "justify_items": null,
            "left": null,
            "margin": null,
            "max_height": null,
            "max_width": null,
            "min_height": null,
            "min_width": null,
            "object_fit": null,
            "object_position": null,
            "order": null,
            "overflow": null,
            "overflow_x": null,
            "overflow_y": null,
            "padding": null,
            "right": null,
            "top": null,
            "visibility": null,
            "width": null
          }
        },
        "1049427a755243cf84bdcb5f217a3ff3": {
          "model_module": "@jupyter-widgets/base",
          "model_name": "LayoutModel",
          "model_module_version": "1.2.0",
          "state": {
            "_model_module": "@jupyter-widgets/base",
            "_model_module_version": "1.2.0",
            "_model_name": "LayoutModel",
            "_view_count": null,
            "_view_module": "@jupyter-widgets/base",
            "_view_module_version": "1.2.0",
            "_view_name": "LayoutView",
            "align_content": null,
            "align_items": null,
            "align_self": null,
            "border": null,
            "bottom": null,
            "display": null,
            "flex": null,
            "flex_flow": null,
            "grid_area": null,
            "grid_auto_columns": null,
            "grid_auto_flow": null,
            "grid_auto_rows": null,
            "grid_column": null,
            "grid_gap": null,
            "grid_row": null,
            "grid_template_areas": null,
            "grid_template_columns": null,
            "grid_template_rows": null,
            "height": null,
            "justify_content": null,
            "justify_items": null,
            "left": null,
            "margin": null,
            "max_height": null,
            "max_width": null,
            "min_height": null,
            "min_width": null,
            "object_fit": null,
            "object_position": null,
            "order": null,
            "overflow": null,
            "overflow_x": null,
            "overflow_y": null,
            "padding": null,
            "right": null,
            "top": null,
            "visibility": null,
            "width": null
          }
        },
        "cca832bdab144080a4f29df5e765669b": {
          "model_module": "@jupyter-widgets/controls",
          "model_name": "DescriptionStyleModel",
          "model_module_version": "1.5.0",
          "state": {
            "_model_module": "@jupyter-widgets/controls",
            "_model_module_version": "1.5.0",
            "_model_name": "DescriptionStyleModel",
            "_view_count": null,
            "_view_module": "@jupyter-widgets/base",
            "_view_module_version": "1.2.0",
            "_view_name": "StyleView",
            "description_width": ""
          }
        },
        "be1f0e120f6140269b195f59612330dc": {
          "model_module": "@jupyter-widgets/base",
          "model_name": "LayoutModel",
          "model_module_version": "1.2.0",
          "state": {
            "_model_module": "@jupyter-widgets/base",
            "_model_module_version": "1.2.0",
            "_model_name": "LayoutModel",
            "_view_count": null,
            "_view_module": "@jupyter-widgets/base",
            "_view_module_version": "1.2.0",
            "_view_name": "LayoutView",
            "align_content": null,
            "align_items": null,
            "align_self": null,
            "border": null,
            "bottom": null,
            "display": null,
            "flex": null,
            "flex_flow": null,
            "grid_area": null,
            "grid_auto_columns": null,
            "grid_auto_flow": null,
            "grid_auto_rows": null,
            "grid_column": null,
            "grid_gap": null,
            "grid_row": null,
            "grid_template_areas": null,
            "grid_template_columns": null,
            "grid_template_rows": null,
            "height": null,
            "justify_content": null,
            "justify_items": null,
            "left": null,
            "margin": null,
            "max_height": null,
            "max_width": null,
            "min_height": null,
            "min_width": null,
            "object_fit": null,
            "object_position": null,
            "order": null,
            "overflow": null,
            "overflow_x": null,
            "overflow_y": null,
            "padding": null,
            "right": null,
            "top": null,
            "visibility": null,
            "width": null
          }
        },
        "5fc67f4422e24dc48dc4d3701e21ad81": {
          "model_module": "@jupyter-widgets/controls",
          "model_name": "ProgressStyleModel",
          "model_module_version": "1.5.0",
          "state": {
            "_model_module": "@jupyter-widgets/controls",
            "_model_module_version": "1.5.0",
            "_model_name": "ProgressStyleModel",
            "_view_count": null,
            "_view_module": "@jupyter-widgets/base",
            "_view_module_version": "1.2.0",
            "_view_name": "StyleView",
            "bar_color": "blue",
            "description_width": ""
          }
        },
        "2777a4e7de6f4d77a916c7ca7140b112": {
          "model_module": "@jupyter-widgets/base",
          "model_name": "LayoutModel",
          "model_module_version": "1.2.0",
          "state": {
            "_model_module": "@jupyter-widgets/base",
            "_model_module_version": "1.2.0",
            "_model_name": "LayoutModel",
            "_view_count": null,
            "_view_module": "@jupyter-widgets/base",
            "_view_module_version": "1.2.0",
            "_view_name": "LayoutView",
            "align_content": null,
            "align_items": null,
            "align_self": null,
            "border": null,
            "bottom": null,
            "display": null,
            "flex": null,
            "flex_flow": null,
            "grid_area": null,
            "grid_auto_columns": null,
            "grid_auto_flow": null,
            "grid_auto_rows": null,
            "grid_column": null,
            "grid_gap": null,
            "grid_row": null,
            "grid_template_areas": null,
            "grid_template_columns": null,
            "grid_template_rows": null,
            "height": null,
            "justify_content": null,
            "justify_items": null,
            "left": null,
            "margin": null,
            "max_height": null,
            "max_width": null,
            "min_height": null,
            "min_width": null,
            "object_fit": null,
            "object_position": null,
            "order": null,
            "overflow": null,
            "overflow_x": null,
            "overflow_y": null,
            "padding": null,
            "right": null,
            "top": null,
            "visibility": null,
            "width": null
          }
        },
        "769d4e9780a6428097d8c168f732e8e2": {
          "model_module": "@jupyter-widgets/controls",
          "model_name": "DescriptionStyleModel",
          "model_module_version": "1.5.0",
          "state": {
            "_model_module": "@jupyter-widgets/controls",
            "_model_module_version": "1.5.0",
            "_model_name": "DescriptionStyleModel",
            "_view_count": null,
            "_view_module": "@jupyter-widgets/base",
            "_view_module_version": "1.2.0",
            "_view_name": "StyleView",
            "description_width": ""
          }
        },
        "19123cd1ee924d0082a9756e6a66a08c": {
          "model_module": "@jupyter-widgets/controls",
          "model_name": "HBoxModel",
          "model_module_version": "1.5.0",
          "state": {
            "_dom_classes": [],
            "_model_module": "@jupyter-widgets/controls",
            "_model_module_version": "1.5.0",
            "_model_name": "HBoxModel",
            "_view_count": null,
            "_view_module": "@jupyter-widgets/controls",
            "_view_module_version": "1.5.0",
            "_view_name": "HBoxView",
            "box_style": "",
            "children": [
              "IPY_MODEL_27dbbeb4e79c4e4283f1b12820ad47b3",
              "IPY_MODEL_cf5bdf03a21f49e5a3ccc3c1981968ff",
              "IPY_MODEL_9da4a38528f2454e98933110c2c7ea9d"
            ],
            "layout": "IPY_MODEL_b5642cc5357a4f4fbaeb1ce44d2ee02a"
          }
        },
        "27dbbeb4e79c4e4283f1b12820ad47b3": {
          "model_module": "@jupyter-widgets/controls",
          "model_name": "HTMLModel",
          "model_module_version": "1.5.0",
          "state": {
            "_dom_classes": [],
            "_model_module": "@jupyter-widgets/controls",
            "_model_module_version": "1.5.0",
            "_model_name": "HTMLModel",
            "_view_count": null,
            "_view_module": "@jupyter-widgets/controls",
            "_view_module_version": "1.5.0",
            "_view_name": "HTMLView",
            "description": "",
            "description_tooltip": null,
            "layout": "IPY_MODEL_77f40c65caf24ee681c0c97df61e5ea3",
            "placeholder": "​",
            "style": "IPY_MODEL_ed11a5cafe574f718d279d10eac9c5ce",
            "value": "chain 2 "
          }
        },
        "cf5bdf03a21f49e5a3ccc3c1981968ff": {
          "model_module": "@jupyter-widgets/controls",
          "model_name": "FloatProgressModel",
          "model_module_version": "1.5.0",
          "state": {
            "_dom_classes": [],
            "_model_module": "@jupyter-widgets/controls",
            "_model_module_version": "1.5.0",
            "_model_name": "FloatProgressModel",
            "_view_count": null,
            "_view_module": "@jupyter-widgets/controls",
            "_view_module_version": "1.5.0",
            "_view_name": "ProgressView",
            "bar_style": "success",
            "description": "",
            "description_tooltip": null,
            "layout": "IPY_MODEL_b3a291426c0046c2ab15a0ecf1d87d23",
            "max": 12,
            "min": 0,
            "orientation": "horizontal",
            "style": "IPY_MODEL_f58f6335ff9e48908389d2cd180d63ca",
            "value": 12
          }
        },
        "9da4a38528f2454e98933110c2c7ea9d": {
          "model_module": "@jupyter-widgets/controls",
          "model_name": "HTMLModel",
          "model_module_version": "1.5.0",
          "state": {
            "_dom_classes": [],
            "_model_module": "@jupyter-widgets/controls",
            "_model_module_version": "1.5.0",
            "_model_name": "HTMLModel",
            "_view_count": null,
            "_view_module": "@jupyter-widgets/controls",
            "_view_module_version": "1.5.0",
            "_view_name": "HTMLView",
            "description": "",
            "description_tooltip": null,
            "layout": "IPY_MODEL_e1d2c808f68a42d788015cfe46a5dfd1",
            "placeholder": "​",
            "style": "IPY_MODEL_2cc5d236d69b4170a65deedde0685a09",
            "value": " 00:00 Sampling completed"
          }
        },
        "b5642cc5357a4f4fbaeb1ce44d2ee02a": {
          "model_module": "@jupyter-widgets/base",
          "model_name": "LayoutModel",
          "model_module_version": "1.2.0",
          "state": {
            "_model_module": "@jupyter-widgets/base",
            "_model_module_version": "1.2.0",
            "_model_name": "LayoutModel",
            "_view_count": null,
            "_view_module": "@jupyter-widgets/base",
            "_view_module_version": "1.2.0",
            "_view_name": "LayoutView",
            "align_content": null,
            "align_items": null,
            "align_self": null,
            "border": null,
            "bottom": null,
            "display": null,
            "flex": null,
            "flex_flow": null,
            "grid_area": null,
            "grid_auto_columns": null,
            "grid_auto_flow": null,
            "grid_auto_rows": null,
            "grid_column": null,
            "grid_gap": null,
            "grid_row": null,
            "grid_template_areas": null,
            "grid_template_columns": null,
            "grid_template_rows": null,
            "height": null,
            "justify_content": null,
            "justify_items": null,
            "left": null,
            "margin": null,
            "max_height": null,
            "max_width": null,
            "min_height": null,
            "min_width": null,
            "object_fit": null,
            "object_position": null,
            "order": null,
            "overflow": null,
            "overflow_x": null,
            "overflow_y": null,
            "padding": null,
            "right": null,
            "top": null,
            "visibility": null,
            "width": null
          }
        },
        "77f40c65caf24ee681c0c97df61e5ea3": {
          "model_module": "@jupyter-widgets/base",
          "model_name": "LayoutModel",
          "model_module_version": "1.2.0",
          "state": {
            "_model_module": "@jupyter-widgets/base",
            "_model_module_version": "1.2.0",
            "_model_name": "LayoutModel",
            "_view_count": null,
            "_view_module": "@jupyter-widgets/base",
            "_view_module_version": "1.2.0",
            "_view_name": "LayoutView",
            "align_content": null,
            "align_items": null,
            "align_self": null,
            "border": null,
            "bottom": null,
            "display": null,
            "flex": null,
            "flex_flow": null,
            "grid_area": null,
            "grid_auto_columns": null,
            "grid_auto_flow": null,
            "grid_auto_rows": null,
            "grid_column": null,
            "grid_gap": null,
            "grid_row": null,
            "grid_template_areas": null,
            "grid_template_columns": null,
            "grid_template_rows": null,
            "height": null,
            "justify_content": null,
            "justify_items": null,
            "left": null,
            "margin": null,
            "max_height": null,
            "max_width": null,
            "min_height": null,
            "min_width": null,
            "object_fit": null,
            "object_position": null,
            "order": null,
            "overflow": null,
            "overflow_x": null,
            "overflow_y": null,
            "padding": null,
            "right": null,
            "top": null,
            "visibility": null,
            "width": null
          }
        },
        "ed11a5cafe574f718d279d10eac9c5ce": {
          "model_module": "@jupyter-widgets/controls",
          "model_name": "DescriptionStyleModel",
          "model_module_version": "1.5.0",
          "state": {
            "_model_module": "@jupyter-widgets/controls",
            "_model_module_version": "1.5.0",
            "_model_name": "DescriptionStyleModel",
            "_view_count": null,
            "_view_module": "@jupyter-widgets/base",
            "_view_module_version": "1.2.0",
            "_view_name": "StyleView",
            "description_width": ""
          }
        },
        "b3a291426c0046c2ab15a0ecf1d87d23": {
          "model_module": "@jupyter-widgets/base",
          "model_name": "LayoutModel",
          "model_module_version": "1.2.0",
          "state": {
            "_model_module": "@jupyter-widgets/base",
            "_model_module_version": "1.2.0",
            "_model_name": "LayoutModel",
            "_view_count": null,
            "_view_module": "@jupyter-widgets/base",
            "_view_module_version": "1.2.0",
            "_view_name": "LayoutView",
            "align_content": null,
            "align_items": null,
            "align_self": null,
            "border": null,
            "bottom": null,
            "display": null,
            "flex": null,
            "flex_flow": null,
            "grid_area": null,
            "grid_auto_columns": null,
            "grid_auto_flow": null,
            "grid_auto_rows": null,
            "grid_column": null,
            "grid_gap": null,
            "grid_row": null,
            "grid_template_areas": null,
            "grid_template_columns": null,
            "grid_template_rows": null,
            "height": null,
            "justify_content": null,
            "justify_items": null,
            "left": null,
            "margin": null,
            "max_height": null,
            "max_width": null,
            "min_height": null,
            "min_width": null,
            "object_fit": null,
            "object_position": null,
            "order": null,
            "overflow": null,
            "overflow_x": null,
            "overflow_y": null,
            "padding": null,
            "right": null,
            "top": null,
            "visibility": null,
            "width": null
          }
        },
        "f58f6335ff9e48908389d2cd180d63ca": {
          "model_module": "@jupyter-widgets/controls",
          "model_name": "ProgressStyleModel",
          "model_module_version": "1.5.0",
          "state": {
            "_model_module": "@jupyter-widgets/controls",
            "_model_module_version": "1.5.0",
            "_model_name": "ProgressStyleModel",
            "_view_count": null,
            "_view_module": "@jupyter-widgets/base",
            "_view_module_version": "1.2.0",
            "_view_name": "StyleView",
            "bar_color": "blue",
            "description_width": ""
          }
        },
        "e1d2c808f68a42d788015cfe46a5dfd1": {
          "model_module": "@jupyter-widgets/base",
          "model_name": "LayoutModel",
          "model_module_version": "1.2.0",
          "state": {
            "_model_module": "@jupyter-widgets/base",
            "_model_module_version": "1.2.0",
            "_model_name": "LayoutModel",
            "_view_count": null,
            "_view_module": "@jupyter-widgets/base",
            "_view_module_version": "1.2.0",
            "_view_name": "LayoutView",
            "align_content": null,
            "align_items": null,
            "align_self": null,
            "border": null,
            "bottom": null,
            "display": null,
            "flex": null,
            "flex_flow": null,
            "grid_area": null,
            "grid_auto_columns": null,
            "grid_auto_flow": null,
            "grid_auto_rows": null,
            "grid_column": null,
            "grid_gap": null,
            "grid_row": null,
            "grid_template_areas": null,
            "grid_template_columns": null,
            "grid_template_rows": null,
            "height": null,
            "justify_content": null,
            "justify_items": null,
            "left": null,
            "margin": null,
            "max_height": null,
            "max_width": null,
            "min_height": null,
            "min_width": null,
            "object_fit": null,
            "object_position": null,
            "order": null,
            "overflow": null,
            "overflow_x": null,
            "overflow_y": null,
            "padding": null,
            "right": null,
            "top": null,
            "visibility": null,
            "width": null
          }
        },
        "2cc5d236d69b4170a65deedde0685a09": {
          "model_module": "@jupyter-widgets/controls",
          "model_name": "DescriptionStyleModel",
          "model_module_version": "1.5.0",
          "state": {
            "_model_module": "@jupyter-widgets/controls",
            "_model_module_version": "1.5.0",
            "_model_name": "DescriptionStyleModel",
            "_view_count": null,
            "_view_module": "@jupyter-widgets/base",
            "_view_module_version": "1.2.0",
            "_view_name": "StyleView",
            "description_width": ""
          }
        },
        "b833fd553b7441ce873b59d01207f89e": {
          "model_module": "@jupyter-widgets/controls",
          "model_name": "HBoxModel",
          "model_module_version": "1.5.0",
          "state": {
            "_dom_classes": [],
            "_model_module": "@jupyter-widgets/controls",
            "_model_module_version": "1.5.0",
            "_model_name": "HBoxModel",
            "_view_count": null,
            "_view_module": "@jupyter-widgets/controls",
            "_view_module_version": "1.5.0",
            "_view_name": "HBoxView",
            "box_style": "",
            "children": [
              "IPY_MODEL_687b372bbd9c4e8ca42e7fd08a510900",
              "IPY_MODEL_f295411c0aa74aa09680792876116c93",
              "IPY_MODEL_19e8fb10a9d54a40abd7025e415d4998"
            ],
            "layout": "IPY_MODEL_2d7274b1f52649479ade3c694a046408"
          }
        },
        "687b372bbd9c4e8ca42e7fd08a510900": {
          "model_module": "@jupyter-widgets/controls",
          "model_name": "HTMLModel",
          "model_module_version": "1.5.0",
          "state": {
            "_dom_classes": [],
            "_model_module": "@jupyter-widgets/controls",
            "_model_module_version": "1.5.0",
            "_model_name": "HTMLModel",
            "_view_count": null,
            "_view_module": "@jupyter-widgets/controls",
            "_view_module_version": "1.5.0",
            "_view_name": "HTMLView",
            "description": "",
            "description_tooltip": null,
            "layout": "IPY_MODEL_4b2a1fe4b1e040138e31cee8aeab0725",
            "placeholder": "​",
            "style": "IPY_MODEL_af2fb487a9184620ab57af73f81702b4",
            "value": "chain 3 "
          }
        },
        "f295411c0aa74aa09680792876116c93": {
          "model_module": "@jupyter-widgets/controls",
          "model_name": "FloatProgressModel",
          "model_module_version": "1.5.0",
          "state": {
            "_dom_classes": [],
            "_model_module": "@jupyter-widgets/controls",
            "_model_module_version": "1.5.0",
            "_model_name": "FloatProgressModel",
            "_view_count": null,
            "_view_module": "@jupyter-widgets/controls",
            "_view_module_version": "1.5.0",
            "_view_name": "ProgressView",
            "bar_style": "success",
            "description": "",
            "description_tooltip": null,
            "layout": "IPY_MODEL_b68ba28d1412497ea1321bcd0a88b2fe",
            "max": 12,
            "min": 0,
            "orientation": "horizontal",
            "style": "IPY_MODEL_fe5460c82373484d92f4a10b85301cbd",
            "value": 12
          }
        },
        "19e8fb10a9d54a40abd7025e415d4998": {
          "model_module": "@jupyter-widgets/controls",
          "model_name": "HTMLModel",
          "model_module_version": "1.5.0",
          "state": {
            "_dom_classes": [],
            "_model_module": "@jupyter-widgets/controls",
            "_model_module_version": "1.5.0",
            "_model_name": "HTMLModel",
            "_view_count": null,
            "_view_module": "@jupyter-widgets/controls",
            "_view_module_version": "1.5.0",
            "_view_name": "HTMLView",
            "description": "",
            "description_tooltip": null,
            "layout": "IPY_MODEL_5d99f4ab6a9f42d68e4811bdc5f3aa2d",
            "placeholder": "​",
            "style": "IPY_MODEL_7e3a35dce1cb4526b8c0e7362fc4e247",
            "value": " 00:00 Sampling completed"
          }
        },
        "2d7274b1f52649479ade3c694a046408": {
          "model_module": "@jupyter-widgets/base",
          "model_name": "LayoutModel",
          "model_module_version": "1.2.0",
          "state": {
            "_model_module": "@jupyter-widgets/base",
            "_model_module_version": "1.2.0",
            "_model_name": "LayoutModel",
            "_view_count": null,
            "_view_module": "@jupyter-widgets/base",
            "_view_module_version": "1.2.0",
            "_view_name": "LayoutView",
            "align_content": null,
            "align_items": null,
            "align_self": null,
            "border": null,
            "bottom": null,
            "display": null,
            "flex": null,
            "flex_flow": null,
            "grid_area": null,
            "grid_auto_columns": null,
            "grid_auto_flow": null,
            "grid_auto_rows": null,
            "grid_column": null,
            "grid_gap": null,
            "grid_row": null,
            "grid_template_areas": null,
            "grid_template_columns": null,
            "grid_template_rows": null,
            "height": null,
            "justify_content": null,
            "justify_items": null,
            "left": null,
            "margin": null,
            "max_height": null,
            "max_width": null,
            "min_height": null,
            "min_width": null,
            "object_fit": null,
            "object_position": null,
            "order": null,
            "overflow": null,
            "overflow_x": null,
            "overflow_y": null,
            "padding": null,
            "right": null,
            "top": null,
            "visibility": null,
            "width": null
          }
        },
        "4b2a1fe4b1e040138e31cee8aeab0725": {
          "model_module": "@jupyter-widgets/base",
          "model_name": "LayoutModel",
          "model_module_version": "1.2.0",
          "state": {
            "_model_module": "@jupyter-widgets/base",
            "_model_module_version": "1.2.0",
            "_model_name": "LayoutModel",
            "_view_count": null,
            "_view_module": "@jupyter-widgets/base",
            "_view_module_version": "1.2.0",
            "_view_name": "LayoutView",
            "align_content": null,
            "align_items": null,
            "align_self": null,
            "border": null,
            "bottom": null,
            "display": null,
            "flex": null,
            "flex_flow": null,
            "grid_area": null,
            "grid_auto_columns": null,
            "grid_auto_flow": null,
            "grid_auto_rows": null,
            "grid_column": null,
            "grid_gap": null,
            "grid_row": null,
            "grid_template_areas": null,
            "grid_template_columns": null,
            "grid_template_rows": null,
            "height": null,
            "justify_content": null,
            "justify_items": null,
            "left": null,
            "margin": null,
            "max_height": null,
            "max_width": null,
            "min_height": null,
            "min_width": null,
            "object_fit": null,
            "object_position": null,
            "order": null,
            "overflow": null,
            "overflow_x": null,
            "overflow_y": null,
            "padding": null,
            "right": null,
            "top": null,
            "visibility": null,
            "width": null
          }
        },
        "af2fb487a9184620ab57af73f81702b4": {
          "model_module": "@jupyter-widgets/controls",
          "model_name": "DescriptionStyleModel",
          "model_module_version": "1.5.0",
          "state": {
            "_model_module": "@jupyter-widgets/controls",
            "_model_module_version": "1.5.0",
            "_model_name": "DescriptionStyleModel",
            "_view_count": null,
            "_view_module": "@jupyter-widgets/base",
            "_view_module_version": "1.2.0",
            "_view_name": "StyleView",
            "description_width": ""
          }
        },
        "b68ba28d1412497ea1321bcd0a88b2fe": {
          "model_module": "@jupyter-widgets/base",
          "model_name": "LayoutModel",
          "model_module_version": "1.2.0",
          "state": {
            "_model_module": "@jupyter-widgets/base",
            "_model_module_version": "1.2.0",
            "_model_name": "LayoutModel",
            "_view_count": null,
            "_view_module": "@jupyter-widgets/base",
            "_view_module_version": "1.2.0",
            "_view_name": "LayoutView",
            "align_content": null,
            "align_items": null,
            "align_self": null,
            "border": null,
            "bottom": null,
            "display": null,
            "flex": null,
            "flex_flow": null,
            "grid_area": null,
            "grid_auto_columns": null,
            "grid_auto_flow": null,
            "grid_auto_rows": null,
            "grid_column": null,
            "grid_gap": null,
            "grid_row": null,
            "grid_template_areas": null,
            "grid_template_columns": null,
            "grid_template_rows": null,
            "height": null,
            "justify_content": null,
            "justify_items": null,
            "left": null,
            "margin": null,
            "max_height": null,
            "max_width": null,
            "min_height": null,
            "min_width": null,
            "object_fit": null,
            "object_position": null,
            "order": null,
            "overflow": null,
            "overflow_x": null,
            "overflow_y": null,
            "padding": null,
            "right": null,
            "top": null,
            "visibility": null,
            "width": null
          }
        },
        "fe5460c82373484d92f4a10b85301cbd": {
          "model_module": "@jupyter-widgets/controls",
          "model_name": "ProgressStyleModel",
          "model_module_version": "1.5.0",
          "state": {
            "_model_module": "@jupyter-widgets/controls",
            "_model_module_version": "1.5.0",
            "_model_name": "ProgressStyleModel",
            "_view_count": null,
            "_view_module": "@jupyter-widgets/base",
            "_view_module_version": "1.2.0",
            "_view_name": "StyleView",
            "bar_color": "blue",
            "description_width": ""
          }
        },
        "5d99f4ab6a9f42d68e4811bdc5f3aa2d": {
          "model_module": "@jupyter-widgets/base",
          "model_name": "LayoutModel",
          "model_module_version": "1.2.0",
          "state": {
            "_model_module": "@jupyter-widgets/base",
            "_model_module_version": "1.2.0",
            "_model_name": "LayoutModel",
            "_view_count": null,
            "_view_module": "@jupyter-widgets/base",
            "_view_module_version": "1.2.0",
            "_view_name": "LayoutView",
            "align_content": null,
            "align_items": null,
            "align_self": null,
            "border": null,
            "bottom": null,
            "display": null,
            "flex": null,
            "flex_flow": null,
            "grid_area": null,
            "grid_auto_columns": null,
            "grid_auto_flow": null,
            "grid_auto_rows": null,
            "grid_column": null,
            "grid_gap": null,
            "grid_row": null,
            "grid_template_areas": null,
            "grid_template_columns": null,
            "grid_template_rows": null,
            "height": null,
            "justify_content": null,
            "justify_items": null,
            "left": null,
            "margin": null,
            "max_height": null,
            "max_width": null,
            "min_height": null,
            "min_width": null,
            "object_fit": null,
            "object_position": null,
            "order": null,
            "overflow": null,
            "overflow_x": null,
            "overflow_y": null,
            "padding": null,
            "right": null,
            "top": null,
            "visibility": null,
            "width": null
          }
        },
        "7e3a35dce1cb4526b8c0e7362fc4e247": {
          "model_module": "@jupyter-widgets/controls",
          "model_name": "DescriptionStyleModel",
          "model_module_version": "1.5.0",
          "state": {
            "_model_module": "@jupyter-widgets/controls",
            "_model_module_version": "1.5.0",
            "_model_name": "DescriptionStyleModel",
            "_view_count": null,
            "_view_module": "@jupyter-widgets/base",
            "_view_module_version": "1.2.0",
            "_view_name": "StyleView",
            "description_width": ""
          }
        },
        "ae38399bb3154fcb93612357385593a1": {
          "model_module": "@jupyter-widgets/controls",
          "model_name": "HBoxModel",
          "model_module_version": "1.5.0",
          "state": {
            "_dom_classes": [],
            "_model_module": "@jupyter-widgets/controls",
            "_model_module_version": "1.5.0",
            "_model_name": "HBoxModel",
            "_view_count": null,
            "_view_module": "@jupyter-widgets/controls",
            "_view_module_version": "1.5.0",
            "_view_name": "HBoxView",
            "box_style": "",
            "children": [
              "IPY_MODEL_45aea892bc0e45eca9b783b13e717d19",
              "IPY_MODEL_1fcdc101b8c7455f9e2e16849cb273ac",
              "IPY_MODEL_81d63905d1cf4e85b1f4f44dd1b606b0"
            ],
            "layout": "IPY_MODEL_c2d24ba228694defbf363d4096c73eec"
          }
        },
        "45aea892bc0e45eca9b783b13e717d19": {
          "model_module": "@jupyter-widgets/controls",
          "model_name": "HTMLModel",
          "model_module_version": "1.5.0",
          "state": {
            "_dom_classes": [],
            "_model_module": "@jupyter-widgets/controls",
            "_model_module_version": "1.5.0",
            "_model_name": "HTMLModel",
            "_view_count": null,
            "_view_module": "@jupyter-widgets/controls",
            "_view_module_version": "1.5.0",
            "_view_name": "HTMLView",
            "description": "",
            "description_tooltip": null,
            "layout": "IPY_MODEL_da0dc36288b24309bfddeeec4ec2dc0c",
            "placeholder": "​",
            "style": "IPY_MODEL_3f7efb6803474cf69592ed24197837b5",
            "value": "chain 4 "
          }
        },
        "1fcdc101b8c7455f9e2e16849cb273ac": {
          "model_module": "@jupyter-widgets/controls",
          "model_name": "FloatProgressModel",
          "model_module_version": "1.5.0",
          "state": {
            "_dom_classes": [],
            "_model_module": "@jupyter-widgets/controls",
            "_model_module_version": "1.5.0",
            "_model_name": "FloatProgressModel",
            "_view_count": null,
            "_view_module": "@jupyter-widgets/controls",
            "_view_module_version": "1.5.0",
            "_view_name": "ProgressView",
            "bar_style": "success",
            "description": "",
            "description_tooltip": null,
            "layout": "IPY_MODEL_ab30083446e7406c9c1968bd712adb21",
            "max": 12,
            "min": 0,
            "orientation": "horizontal",
            "style": "IPY_MODEL_8f0b2a84de1348fcbac973c7fd7c5cfa",
            "value": 12
          }
        },
        "81d63905d1cf4e85b1f4f44dd1b606b0": {
          "model_module": "@jupyter-widgets/controls",
          "model_name": "HTMLModel",
          "model_module_version": "1.5.0",
          "state": {
            "_dom_classes": [],
            "_model_module": "@jupyter-widgets/controls",
            "_model_module_version": "1.5.0",
            "_model_name": "HTMLModel",
            "_view_count": null,
            "_view_module": "@jupyter-widgets/controls",
            "_view_module_version": "1.5.0",
            "_view_name": "HTMLView",
            "description": "",
            "description_tooltip": null,
            "layout": "IPY_MODEL_6ce3c7b90dff412a8e3c66ec42ae6e47",
            "placeholder": "​",
            "style": "IPY_MODEL_f0887008d31443e098826ab1019989aa",
            "value": " 00:00 Sampling completed"
          }
        },
        "c2d24ba228694defbf363d4096c73eec": {
          "model_module": "@jupyter-widgets/base",
          "model_name": "LayoutModel",
          "model_module_version": "1.2.0",
          "state": {
            "_model_module": "@jupyter-widgets/base",
            "_model_module_version": "1.2.0",
            "_model_name": "LayoutModel",
            "_view_count": null,
            "_view_module": "@jupyter-widgets/base",
            "_view_module_version": "1.2.0",
            "_view_name": "LayoutView",
            "align_content": null,
            "align_items": null,
            "align_self": null,
            "border": null,
            "bottom": null,
            "display": null,
            "flex": null,
            "flex_flow": null,
            "grid_area": null,
            "grid_auto_columns": null,
            "grid_auto_flow": null,
            "grid_auto_rows": null,
            "grid_column": null,
            "grid_gap": null,
            "grid_row": null,
            "grid_template_areas": null,
            "grid_template_columns": null,
            "grid_template_rows": null,
            "height": null,
            "justify_content": null,
            "justify_items": null,
            "left": null,
            "margin": null,
            "max_height": null,
            "max_width": null,
            "min_height": null,
            "min_width": null,
            "object_fit": null,
            "object_position": null,
            "order": null,
            "overflow": null,
            "overflow_x": null,
            "overflow_y": null,
            "padding": null,
            "right": null,
            "top": null,
            "visibility": null,
            "width": null
          }
        },
        "da0dc36288b24309bfddeeec4ec2dc0c": {
          "model_module": "@jupyter-widgets/base",
          "model_name": "LayoutModel",
          "model_module_version": "1.2.0",
          "state": {
            "_model_module": "@jupyter-widgets/base",
            "_model_module_version": "1.2.0",
            "_model_name": "LayoutModel",
            "_view_count": null,
            "_view_module": "@jupyter-widgets/base",
            "_view_module_version": "1.2.0",
            "_view_name": "LayoutView",
            "align_content": null,
            "align_items": null,
            "align_self": null,
            "border": null,
            "bottom": null,
            "display": null,
            "flex": null,
            "flex_flow": null,
            "grid_area": null,
            "grid_auto_columns": null,
            "grid_auto_flow": null,
            "grid_auto_rows": null,
            "grid_column": null,
            "grid_gap": null,
            "grid_row": null,
            "grid_template_areas": null,
            "grid_template_columns": null,
            "grid_template_rows": null,
            "height": null,
            "justify_content": null,
            "justify_items": null,
            "left": null,
            "margin": null,
            "max_height": null,
            "max_width": null,
            "min_height": null,
            "min_width": null,
            "object_fit": null,
            "object_position": null,
            "order": null,
            "overflow": null,
            "overflow_x": null,
            "overflow_y": null,
            "padding": null,
            "right": null,
            "top": null,
            "visibility": null,
            "width": null
          }
        },
        "3f7efb6803474cf69592ed24197837b5": {
          "model_module": "@jupyter-widgets/controls",
          "model_name": "DescriptionStyleModel",
          "model_module_version": "1.5.0",
          "state": {
            "_model_module": "@jupyter-widgets/controls",
            "_model_module_version": "1.5.0",
            "_model_name": "DescriptionStyleModel",
            "_view_count": null,
            "_view_module": "@jupyter-widgets/base",
            "_view_module_version": "1.2.0",
            "_view_name": "StyleView",
            "description_width": ""
          }
        },
        "ab30083446e7406c9c1968bd712adb21": {
          "model_module": "@jupyter-widgets/base",
          "model_name": "LayoutModel",
          "model_module_version": "1.2.0",
          "state": {
            "_model_module": "@jupyter-widgets/base",
            "_model_module_version": "1.2.0",
            "_model_name": "LayoutModel",
            "_view_count": null,
            "_view_module": "@jupyter-widgets/base",
            "_view_module_version": "1.2.0",
            "_view_name": "LayoutView",
            "align_content": null,
            "align_items": null,
            "align_self": null,
            "border": null,
            "bottom": null,
            "display": null,
            "flex": null,
            "flex_flow": null,
            "grid_area": null,
            "grid_auto_columns": null,
            "grid_auto_flow": null,
            "grid_auto_rows": null,
            "grid_column": null,
            "grid_gap": null,
            "grid_row": null,
            "grid_template_areas": null,
            "grid_template_columns": null,
            "grid_template_rows": null,
            "height": null,
            "justify_content": null,
            "justify_items": null,
            "left": null,
            "margin": null,
            "max_height": null,
            "max_width": null,
            "min_height": null,
            "min_width": null,
            "object_fit": null,
            "object_position": null,
            "order": null,
            "overflow": null,
            "overflow_x": null,
            "overflow_y": null,
            "padding": null,
            "right": null,
            "top": null,
            "visibility": null,
            "width": null
          }
        },
        "8f0b2a84de1348fcbac973c7fd7c5cfa": {
          "model_module": "@jupyter-widgets/controls",
          "model_name": "ProgressStyleModel",
          "model_module_version": "1.5.0",
          "state": {
            "_model_module": "@jupyter-widgets/controls",
            "_model_module_version": "1.5.0",
            "_model_name": "ProgressStyleModel",
            "_view_count": null,
            "_view_module": "@jupyter-widgets/base",
            "_view_module_version": "1.2.0",
            "_view_name": "StyleView",
            "bar_color": "blue",
            "description_width": ""
          }
        },
        "6ce3c7b90dff412a8e3c66ec42ae6e47": {
          "model_module": "@jupyter-widgets/base",
          "model_name": "LayoutModel",
          "model_module_version": "1.2.0",
          "state": {
            "_model_module": "@jupyter-widgets/base",
            "_model_module_version": "1.2.0",
            "_model_name": "LayoutModel",
            "_view_count": null,
            "_view_module": "@jupyter-widgets/base",
            "_view_module_version": "1.2.0",
            "_view_name": "LayoutView",
            "align_content": null,
            "align_items": null,
            "align_self": null,
            "border": null,
            "bottom": null,
            "display": null,
            "flex": null,
            "flex_flow": null,
            "grid_area": null,
            "grid_auto_columns": null,
            "grid_auto_flow": null,
            "grid_auto_rows": null,
            "grid_column": null,
            "grid_gap": null,
            "grid_row": null,
            "grid_template_areas": null,
            "grid_template_columns": null,
            "grid_template_rows": null,
            "height": null,
            "justify_content": null,
            "justify_items": null,
            "left": null,
            "margin": null,
            "max_height": null,
            "max_width": null,
            "min_height": null,
            "min_width": null,
            "object_fit": null,
            "object_position": null,
            "order": null,
            "overflow": null,
            "overflow_x": null,
            "overflow_y": null,
            "padding": null,
            "right": null,
            "top": null,
            "visibility": null,
            "width": null
          }
        },
        "f0887008d31443e098826ab1019989aa": {
          "model_module": "@jupyter-widgets/controls",
          "model_name": "DescriptionStyleModel",
          "model_module_version": "1.5.0",
          "state": {
            "_model_module": "@jupyter-widgets/controls",
            "_model_module_version": "1.5.0",
            "_model_name": "DescriptionStyleModel",
            "_view_count": null,
            "_view_module": "@jupyter-widgets/base",
            "_view_module_version": "1.2.0",
            "_view_name": "StyleView",
            "description_width": ""
          }
        }
      }
    }
  },
  "cells": [
    {
      "cell_type": "markdown",
      "source": [
        "## Grab historical data (4/12/22 - 7/19/22) csv file from github"
      ],
      "metadata": {
        "id": "M6G63CMrm9kd"
      }
    },
    {
      "cell_type": "code",
      "execution_count": 1,
      "metadata": {
        "id": "DZCp1ODSlI3J"
      },
      "outputs": [],
      "source": [
        "import pandas as pd\n",
        "\n",
        "# url points to where the data is saved in github\n",
        "url = 'https://raw.githubusercontent.com/primitivefinance/pool-analytics/main/historical_data/rmm_swap_data.csv'\n",
        "\n",
        "raw_swap_df  = pd.read_csv(url)\n",
        "\n",
        "# set index to timestamp for time series analysis.\n",
        "raw_swap_df = raw_swap_df.set_index('timestamp')"
      ]
    },
    {
      "cell_type": "code",
      "source": [
        "# filter dataframe by inidividual pool\n",
        "# hp_pool = '0x3f30f0d4cc68008c126445aa48f352476dfaf6eef720301e7e3e12fec606fe5f'\n",
        "# whale_pool = '0x0406da38d507a95e0cb6802d023a2932131cf8fd57b12faa82b3bec3307e5241' # whale pool, expired 7/10/22\n",
        "# whale_pool = '0x50fea5c3d0c47f6e80acf0f9d061b5b9e4ae2ada7f52add1ce172c3a65d24d5e' # expires 7/19/22\n",
        "\n",
        "# raw_swap_single_pool_df = raw_swap_df[raw_swap_df['pool.id'] == whale_pool]\n",
        "\n",
        "#renaming for ease\n",
        "raw_swap_single_pool_df = raw_swap_df"
      ],
      "metadata": {
        "id": "XoZ7qtkAnixO"
      },
      "execution_count": 2,
      "outputs": []
    },
    {
      "cell_type": "markdown",
      "source": [
        "Tentatively I want to use what parameters?"
      ],
      "metadata": {
        "id": "qlSLbVgAtTRg"
      }
    },
    {
      "cell_type": "markdown",
      "source": [
        "## Bayesian Modeling"
      ],
      "metadata": {
        "id": "-uQuyhvxsZCs"
      }
    },
    {
      "cell_type": "markdown",
      "source": [
        "`Arviz` - Bayesian Inference visualization library \\\\\n",
        "`cmdstanpy` - bayesian inference python wrapper over stan CLI \\\\"
      ],
      "metadata": {
        "id": "iSrguPBrRJLT"
      }
    },
    {
      "cell_type": "code",
      "source": [
        "# install arviz (bayesian inference visualization) and cmdstanpy (bayesian modeling)\n",
        "!pip install arviz\n",
        "!pip install --upgrade cmdstanpy\n",
        "\n",
        "\n",
        "# REVIEW NOTES FROM 4/11/21\n",
        "# - https://github.com/stan-dev/example-models/blob/master/jupyter/covid-inf-rate/SantaClara_CmdStanPy.ipynb\n",
        "# - https://cmdstanpy.readthedocs.io/en/stable-0.9.65/getting_started.html\n",
        "# - stan reference manual - https://mc-stan.org/docs/2_26/reference-manual/hmc-chapter.html"
      ],
      "metadata": {
        "colab": {
          "base_uri": "https://localhost:8080/"
        },
        "id": "aK7w3q4Flhvx",
        "outputId": "4d4a3fde-e281-42d9-9b1a-4870d2e84179"
      },
      "execution_count": 3,
      "outputs": [
        {
          "output_type": "stream",
          "name": "stdout",
          "text": [
            "Looking in indexes: https://pypi.org/simple, https://us-python.pkg.dev/colab-wheels/public/simple/\n",
            "Requirement already satisfied: arviz in /usr/local/lib/python3.7/dist-packages (0.12.1)\n",
            "Requirement already satisfied: pandas>=0.23 in /usr/local/lib/python3.7/dist-packages (from arviz) (1.3.5)\n",
            "Requirement already satisfied: netcdf4 in /usr/local/lib/python3.7/dist-packages (from arviz) (1.6.0)\n",
            "Requirement already satisfied: setuptools>=38.4 in /usr/local/lib/python3.7/dist-packages (from arviz) (57.4.0)\n",
            "Requirement already satisfied: matplotlib>=3.0 in /usr/local/lib/python3.7/dist-packages (from arviz) (3.2.2)\n",
            "Requirement already satisfied: xarray>=0.16.1 in /usr/local/lib/python3.7/dist-packages (from arviz) (0.20.2)\n",
            "Requirement already satisfied: typing-extensions>=3.7.4.3 in /usr/local/lib/python3.7/dist-packages (from arviz) (4.1.1)\n",
            "Requirement already satisfied: xarray-einstats>=0.2 in /usr/local/lib/python3.7/dist-packages (from arviz) (0.2.2)\n",
            "Requirement already satisfied: numpy>=1.12 in /usr/local/lib/python3.7/dist-packages (from arviz) (1.21.6)\n",
            "Requirement already satisfied: packaging in /usr/local/lib/python3.7/dist-packages (from arviz) (21.3)\n",
            "Requirement already satisfied: scipy>=0.19 in /usr/local/lib/python3.7/dist-packages (from arviz) (1.7.3)\n",
            "Requirement already satisfied: cycler>=0.10 in /usr/local/lib/python3.7/dist-packages (from matplotlib>=3.0->arviz) (0.11.0)\n",
            "Requirement already satisfied: python-dateutil>=2.1 in /usr/local/lib/python3.7/dist-packages (from matplotlib>=3.0->arviz) (2.8.2)\n",
            "Requirement already satisfied: kiwisolver>=1.0.1 in /usr/local/lib/python3.7/dist-packages (from matplotlib>=3.0->arviz) (1.4.4)\n",
            "Requirement already satisfied: pyparsing!=2.0.4,!=2.1.2,!=2.1.6,>=2.0.1 in /usr/local/lib/python3.7/dist-packages (from matplotlib>=3.0->arviz) (3.0.9)\n",
            "Requirement already satisfied: pytz>=2017.3 in /usr/local/lib/python3.7/dist-packages (from pandas>=0.23->arviz) (2022.1)\n",
            "Requirement already satisfied: six>=1.5 in /usr/local/lib/python3.7/dist-packages (from python-dateutil>=2.1->matplotlib>=3.0->arviz) (1.15.0)\n",
            "Requirement already satisfied: importlib-metadata in /usr/local/lib/python3.7/dist-packages (from xarray>=0.16.1->arviz) (4.12.0)\n",
            "Requirement already satisfied: zipp>=0.5 in /usr/local/lib/python3.7/dist-packages (from importlib-metadata->xarray>=0.16.1->arviz) (3.8.1)\n",
            "Requirement already satisfied: cftime in /usr/local/lib/python3.7/dist-packages (from netcdf4->arviz) (1.6.1)\n",
            "Looking in indexes: https://pypi.org/simple, https://us-python.pkg.dev/colab-wheels/public/simple/\n",
            "Requirement already satisfied: cmdstanpy in /usr/local/lib/python3.7/dist-packages (0.9.5)\n",
            "Collecting cmdstanpy\n",
            "  Downloading cmdstanpy-1.0.4-py3-none-any.whl (73 kB)\n",
            "\u001b[K     |████████████████████████████████| 73 kB 1.9 MB/s \n",
            "\u001b[?25hRequirement already satisfied: numpy>=1.21 in /usr/local/lib/python3.7/dist-packages (from cmdstanpy) (1.21.6)\n",
            "Requirement already satisfied: tqdm in /usr/local/lib/python3.7/dist-packages (from cmdstanpy) (4.64.0)\n",
            "Requirement already satisfied: pandas in /usr/local/lib/python3.7/dist-packages (from cmdstanpy) (1.3.5)\n",
            "Collecting ujson\n",
            "  Downloading ujson-5.4.0-cp37-cp37m-manylinux_2_17_x86_64.manylinux2014_x86_64.whl (45 kB)\n",
            "\u001b[K     |████████████████████████████████| 45 kB 3.0 MB/s \n",
            "\u001b[?25hRequirement already satisfied: pytz>=2017.3 in /usr/local/lib/python3.7/dist-packages (from pandas->cmdstanpy) (2022.1)\n",
            "Requirement already satisfied: python-dateutil>=2.7.3 in /usr/local/lib/python3.7/dist-packages (from pandas->cmdstanpy) (2.8.2)\n",
            "Requirement already satisfied: six>=1.5 in /usr/local/lib/python3.7/dist-packages (from python-dateutil>=2.7.3->pandas->cmdstanpy) (1.15.0)\n",
            "Installing collected packages: ujson, cmdstanpy\n",
            "  Attempting uninstall: cmdstanpy\n",
            "    Found existing installation: cmdstanpy 0.9.5\n",
            "    Uninstalling cmdstanpy-0.9.5:\n",
            "      Successfully uninstalled cmdstanpy-0.9.5\n",
            "\u001b[31mERROR: pip's dependency resolver does not currently take into account all the packages that are installed. This behaviour is the source of the following dependency conflicts.\n",
            "fbprophet 0.7.1 requires cmdstanpy==0.9.5, but you have cmdstanpy 1.0.4 which is incompatible.\u001b[0m\n",
            "Successfully installed cmdstanpy-1.0.4 ujson-5.4.0\n"
          ]
        }
      ]
    },
    {
      "cell_type": "code",
      "source": [
        "import cmdstanpy\n",
        "# downloads CmdStan from GitHub and builds the CmdStan utilities.\n",
        "cmdstanpy.install_cmdstan() #need cmdstan for cmdstanpy to run on, note this step takes a while to finish."
      ],
      "metadata": {
        "colab": {
          "base_uri": "https://localhost:8080/"
        },
        "id": "DYnOnahIsHlT",
        "outputId": "dc458aae-686c-4948-ddbc-4d26042e0b12"
      },
      "execution_count": 4,
      "outputs": [
        {
          "output_type": "stream",
          "name": "stdout",
          "text": [
            "Installing CmdStan version: 2.30.0\n",
            "Install directory: /root/.cmdstan\n",
            "Downloading CmdStan version 2.30.0\n",
            "Download successful, file: /tmp/tmpgxzjy0lj\n",
            "Extracting distribution\n",
            "Unpacked download as cmdstan-2.30.0\n",
            "Building version cmdstan-2.30.0, may take several minutes, depending on your system.\n",
            "Test model compilation\n",
            "Installed cmdstan-2.30.0\n"
          ]
        },
        {
          "output_type": "execute_result",
          "data": {
            "text/plain": [
              "True"
            ]
          },
          "metadata": {},
          "execution_count": 4
        }
      ]
    },
    {
      "cell_type": "code",
      "source": [
        "# check that cmdstanpy is latest version. Sometimes there is a colab bug here if cmdstanpy is not upgraded to latest version.\n",
        "cmdstanpy.__version__"
      ],
      "metadata": {
        "colab": {
          "base_uri": "https://localhost:8080/",
          "height": 35
        },
        "id": "ttHXMoEm_l2v",
        "outputId": "05a0add2-8328-40bd-f97f-cb8ac6e1fce4"
      },
      "execution_count": 5,
      "outputs": [
        {
          "output_type": "execute_result",
          "data": {
            "text/plain": [
              "'1.0.4'"
            ],
            "application/vnd.google.colaboratory.intrinsic+json": {
              "type": "string"
            }
          },
          "metadata": {},
          "execution_count": 5
        }
      ]
    },
    {
      "cell_type": "code",
      "source": [
        "raw_swap_single_pool_df.columns"
      ],
      "metadata": {
        "colab": {
          "base_uri": "https://localhost:8080/"
        },
        "id": "ywhfrh2cjLEF",
        "outputId": "ee60f516-625e-4172-e88e-8a2fe0094c4e"
      },
      "execution_count": 6,
      "outputs": [
        {
          "output_type": "execute_result",
          "data": {
            "text/plain": [
              "Index(['riskyForStable', 'deltaOut', 'tau', 'totalUnderlying', 'totalQuote',\n",
              "       'totalLiquidity', 'pool.id', 'pool.liquidity', 'pool.strike',\n",
              "       'pool.invariant', 'pool.sigma', 'pool.maturity', 'pool.initialQuote',\n",
              "       'pool.initialUnderlying', 'pool.initialLiquidity', 'pool.initialTau',\n",
              "       'pool.feesCollectedQuote', 'pool.feesCollectedUnderlying',\n",
              "       'pool.maturity_utc', 'pool.createdAtTimestamp_utc',\n",
              "       'pool.initialTau_utc', 'tau_yrs', 'pool.initialTau_years',\n",
              "       'swap_vol_cum', 'swap_count_cum', 'pool_name', 'spot_price', 'tvl',\n",
              "       'initial_tvl', 'total_fees_usdc', 'pool.duration_utc',\n",
              "       'totalUnderlying_usdc', 'totalQuote_usdc',\n",
              "       'initialUnderlyingPerLiquidity', 'initialQuotePerLiquidity',\n",
              "       'currentUnderlyingPerLiquidity', 'currentUnderlyingPerLiquiditySpot',\n",
              "       'currentQuotePerLiquidity', 'currentLPT_usdc'],\n",
              "      dtype='object')"
            ]
          },
          "metadata": {},
          "execution_count": 6
        }
      ]
    },
    {
      "cell_type": "code",
      "source": [
        "# check liquidity utilization calculation\n",
        "(raw_swap_single_pool_df['deltaOut'] / raw_swap_single_pool_df['tvl']).head(5)"
      ],
      "metadata": {
        "colab": {
          "base_uri": "https://localhost:8080/"
        },
        "id": "B4sIzw8Rjp5F",
        "outputId": "8881bcd4-cd8b-4816-a619-55172b60d4c5"
      },
      "execution_count": 7,
      "outputs": [
        {
          "output_type": "execute_result",
          "data": {
            "text/plain": [
              "timestamp\n",
              "2022-04-12 09:06:00    0.110621\n",
              "2022-04-12 21:00:00    0.066238\n",
              "2022-04-13 05:24:00    0.999324\n",
              "2022-04-18 01:45:00    0.060504\n",
              "2022-04-18 07:48:00    0.047358\n",
              "dtype: float64"
            ]
          },
          "metadata": {},
          "execution_count": 7
        }
      ]
    },
    {
      "cell_type": "code",
      "source": [
        "# prepare data to put into dictionary. Data needs to be in dictionary format to use in Stan\n",
        "index_count = len(raw_swap_single_pool_df.index)\n",
        "\n",
        "x_vals = [x for x in range(0,index_count)]\n",
        "y1 = (raw_swap_single_pool_df['tau_yrs']).fillna(0).tolist()\n",
        "y2 = (raw_swap_single_pool_df['deltaOut'] / raw_swap_single_pool_df['tvl']).fillna(0).tolist()\n",
        "\n",
        "keys = ['N', 'y1', 'y2']\n",
        "swap_data_dict = dict(zip(keys,[index_count, y1, y2]))"
      ],
      "metadata": {
        "id": "c64j3s7R5ge_"
      },
      "execution_count": 8,
      "outputs": []
    },
    {
      "cell_type": "code",
      "source": [
        "#create basic STAN model that gives a posterior distribution based on the input data priors\n",
        "\n",
        "my_model = \"\"\"\n",
        "data { \n",
        "  int<lower=0> N;\n",
        "  vector[N] y1;\n",
        "  vector[N] y2;\n",
        "} \n",
        "\n",
        "parameters {\n",
        "  real<lower=0, upper=1> theta1;\n",
        "  real<lower=0, upper=1> theta2;\n",
        "} \n",
        "\n",
        "model {\n",
        "  theta1 ~ normal(0, 1); # theta is defined as a prior normal distribution\n",
        "  y1 ~ normal(theta1, 1);\n",
        "\n",
        "  theta2 ~ normal(0, 1);\n",
        "  y2 ~ normal(theta2, 1);\n",
        "}\n",
        "\"\"\"\n",
        "\n",
        "with open(\"my_model.stan\", \"w\") as f:\n",
        "    f.write(my_model)\n",
        "\n",
        "model = cmdstanpy.CmdStanModel(stan_file=\"my_model.stan\")\n",
        "fit = model.sample(chains=4, inits=50, iter_warmup=50, thin=2, data=swap_data_dict, output_dir=\"./\")"
      ],
      "metadata": {
        "colab": {
          "base_uri": "https://localhost:8080/",
          "height": 495,
          "referenced_widgets": [
            "70781f07d986419abfe9ac86c78696da",
            "a27f8ac300524ce881b5e57761943e57",
            "f57a7325017b4d9c83b022634087e688",
            "c29a838f1b0d4894a7bad4e9325e9d43",
            "c4fc3b2c6522444cbba5787361c39f59",
            "1049427a755243cf84bdcb5f217a3ff3",
            "cca832bdab144080a4f29df5e765669b",
            "be1f0e120f6140269b195f59612330dc",
            "5fc67f4422e24dc48dc4d3701e21ad81",
            "2777a4e7de6f4d77a916c7ca7140b112",
            "769d4e9780a6428097d8c168f732e8e2",
            "19123cd1ee924d0082a9756e6a66a08c",
            "27dbbeb4e79c4e4283f1b12820ad47b3",
            "cf5bdf03a21f49e5a3ccc3c1981968ff",
            "9da4a38528f2454e98933110c2c7ea9d",
            "b5642cc5357a4f4fbaeb1ce44d2ee02a",
            "77f40c65caf24ee681c0c97df61e5ea3",
            "ed11a5cafe574f718d279d10eac9c5ce",
            "b3a291426c0046c2ab15a0ecf1d87d23",
            "f58f6335ff9e48908389d2cd180d63ca",
            "e1d2c808f68a42d788015cfe46a5dfd1",
            "2cc5d236d69b4170a65deedde0685a09",
            "b833fd553b7441ce873b59d01207f89e",
            "687b372bbd9c4e8ca42e7fd08a510900",
            "f295411c0aa74aa09680792876116c93",
            "19e8fb10a9d54a40abd7025e415d4998",
            "2d7274b1f52649479ade3c694a046408",
            "4b2a1fe4b1e040138e31cee8aeab0725",
            "af2fb487a9184620ab57af73f81702b4",
            "b68ba28d1412497ea1321bcd0a88b2fe",
            "fe5460c82373484d92f4a10b85301cbd",
            "5d99f4ab6a9f42d68e4811bdc5f3aa2d",
            "7e3a35dce1cb4526b8c0e7362fc4e247",
            "ae38399bb3154fcb93612357385593a1",
            "45aea892bc0e45eca9b783b13e717d19",
            "1fcdc101b8c7455f9e2e16849cb273ac",
            "81d63905d1cf4e85b1f4f44dd1b606b0",
            "c2d24ba228694defbf363d4096c73eec",
            "da0dc36288b24309bfddeeec4ec2dc0c",
            "3f7efb6803474cf69592ed24197837b5",
            "ab30083446e7406c9c1968bd712adb21",
            "8f0b2a84de1348fcbac973c7fd7c5cfa",
            "6ce3c7b90dff412a8e3c66ec42ae6e47",
            "f0887008d31443e098826ab1019989aa"
          ]
        },
        "id": "XGSXT2BbsHnY",
        "outputId": "fb6277c9-9c15-407e-b60e-6bb379b25b0b"
      },
      "execution_count": 9,
      "outputs": [
        {
          "output_type": "stream",
          "name": "stderr",
          "text": [
            "13:04:09 - cmdstanpy - INFO - compiling stan file /content/my_model.stan to exe file /content/my_model\n",
            "13:04:29 - cmdstanpy - INFO - compiled model executable: /content/my_model\n",
            "13:04:29 - cmdstanpy - WARNING - Stan compiler has produced 1 warnings:\n",
            "13:04:29 - cmdstanpy - WARNING - \n",
            "--- Translating Stan model to C++ code ---\n",
            "bin/stanc  --o=/content/my_model.hpp /content/my_model.stan\n",
            "Warning in '/content/my_model.stan', line 14, column 25: Comments beginning\n",
            "    with # are deprecated and this syntax will be removed in Stan 2.32.0. Use\n",
            "    // to begin line comments; this can be done automatically using the\n",
            "    auto-format flag to stanc\n",
            "\n",
            "--- Compiling, linking C++ code ---\n",
            "g++ -std=c++1y -pthread -D_REENTRANT -Wno-sign-compare -Wno-ignored-attributes      -I stan/lib/stan_math/lib/tbb_2020.3/include    -O3 -I src -I stan/src -I lib/rapidjson_1.1.0/ -I lib/CLI11-1.9.1/ -I stan/lib/stan_math/ -I stan/lib/stan_math/lib/eigen_3.3.9 -I stan/lib/stan_math/lib/boost_1.78.0 -I stan/lib/stan_math/lib/sundials_6.1.1/include -I stan/lib/stan_math/lib/sundials_6.1.1/src/sundials    -DBOOST_DISABLE_ASSERTS          -c -Wno-ignored-attributes   -x c++ -o /content/my_model.o /content/my_model.hpp\n",
            "g++ -std=c++1y -pthread -D_REENTRANT -Wno-sign-compare -Wno-ignored-attributes      -I stan/lib/stan_math/lib/tbb_2020.3/include    -O3 -I src -I stan/src -I lib/rapidjson_1.1.0/ -I lib/CLI11-1.9.1/ -I stan/lib/stan_math/ -I stan/lib/stan_math/lib/eigen_3.3.9 -I stan/lib/stan_math/lib/boost_1.78.0 -I stan/lib/stan_math/lib/sundials_6.1.1/include -I stan/lib/stan_math/lib/sundials_6.1.1/src/sundials    -DBOOST_DISABLE_ASSERTS                -Wl,-L,\"/root/.cmdstan/cmdstan-2.30.0/stan/lib/stan_math/lib/tbb\" -Wl,-rpath,\"/root/.cmdstan/cmdstan-2.30.0/stan/lib/stan_math/lib/tbb\"      /content/my_model.o src/cmdstan/main.o        -Wl,-L,\"/root/.cmdstan/cmdstan-2.30.0/stan/lib/stan_math/lib/tbb\" -Wl,-rpath,\"/root/.cmdstan/cmdstan-2.30.0/stan/lib/stan_math/lib/tbb\"   stan/lib/stan_math/lib/sundials_6.1.1/lib/libsundials_nvecserial.a stan/lib/stan_math/lib/sundials_6.1.1/lib/libsundials_cvodes.a stan/lib/stan_math/lib/sundials_6.1.1/lib/libsundials_idas.a stan/lib/stan_math/lib/sundials_6.1.1/lib/libsundials_kinsol.a  stan/lib/stan_math/lib/tbb/libtbb.so.2 -o /content/my_model\n",
            "rm -f /content/my_model.o\n",
            "\n",
            "13:04:29 - cmdstanpy - INFO - CmdStan start processing\n"
          ]
        },
        {
          "output_type": "display_data",
          "data": {
            "text/plain": [
              "chain 1 |          | 00:00 Status"
            ],
            "application/vnd.jupyter.widget-view+json": {
              "version_major": 2,
              "version_minor": 0,
              "model_id": "70781f07d986419abfe9ac86c78696da"
            }
          },
          "metadata": {}
        },
        {
          "output_type": "display_data",
          "data": {
            "text/plain": [
              "chain 2 |          | 00:00 Status"
            ],
            "application/vnd.jupyter.widget-view+json": {
              "version_major": 2,
              "version_minor": 0,
              "model_id": "19123cd1ee924d0082a9756e6a66a08c"
            }
          },
          "metadata": {}
        },
        {
          "output_type": "display_data",
          "data": {
            "text/plain": [
              "chain 3 |          | 00:00 Status"
            ],
            "application/vnd.jupyter.widget-view+json": {
              "version_major": 2,
              "version_minor": 0,
              "model_id": "b833fd553b7441ce873b59d01207f89e"
            }
          },
          "metadata": {}
        },
        {
          "output_type": "display_data",
          "data": {
            "text/plain": [
              "chain 4 |          | 00:00 Status"
            ],
            "application/vnd.jupyter.widget-view+json": {
              "version_major": 2,
              "version_minor": 0,
              "model_id": "ae38399bb3154fcb93612357385593a1"
            }
          },
          "metadata": {}
        },
        {
          "output_type": "stream",
          "name": "stdout",
          "text": [
            "                                                                                                                                                                                                                                                                                                                                "
          ]
        },
        {
          "output_type": "stream",
          "name": "stderr",
          "text": [
            "13:04:30 - cmdstanpy - INFO - CmdStan done processing.\n"
          ]
        },
        {
          "output_type": "stream",
          "name": "stdout",
          "text": [
            "\n"
          ]
        }
      ]
    },
    {
      "cell_type": "code",
      "source": [
        "fit.summary()"
      ],
      "metadata": {
        "colab": {
          "base_uri": "https://localhost:8080/",
          "height": 175
        },
        "id": "xvYCypnM_AGf",
        "outputId": "f1c7a52e-8975-4c13-aa97-95ca48624285"
      },
      "execution_count": 10,
      "outputs": [
        {
          "output_type": "execute_result",
          "data": {
            "text/plain": [
              "             Mean      MCSE    StdDev         5%        50%        95%  \\\n",
              "name                                                                     \n",
              "lp__   -24.563200  0.051516  1.276050 -26.978600 -24.207800 -23.339500   \n",
              "theta1   0.050729  0.001027  0.034655   0.005543   0.045237   0.117389   \n",
              "theta2   0.076784  0.001311  0.044255   0.010736   0.073204   0.156671   \n",
              "\n",
              "           N_Eff  N_Eff/s    R_hat  \n",
              "name                                \n",
              "lp__     613.544  1319.45  1.00678  \n",
              "theta1  1138.720  2448.86  0.99939  \n",
              "theta2  1139.570  2450.70  1.00410  "
            ],
            "text/html": [
              "\n",
              "  <div id=\"df-efe3e658-450b-407f-93ad-ef6bf843d3cc\">\n",
              "    <div class=\"colab-df-container\">\n",
              "      <div>\n",
              "<style scoped>\n",
              "    .dataframe tbody tr th:only-of-type {\n",
              "        vertical-align: middle;\n",
              "    }\n",
              "\n",
              "    .dataframe tbody tr th {\n",
              "        vertical-align: top;\n",
              "    }\n",
              "\n",
              "    .dataframe thead th {\n",
              "        text-align: right;\n",
              "    }\n",
              "</style>\n",
              "<table border=\"1\" class=\"dataframe\">\n",
              "  <thead>\n",
              "    <tr style=\"text-align: right;\">\n",
              "      <th></th>\n",
              "      <th>Mean</th>\n",
              "      <th>MCSE</th>\n",
              "      <th>StdDev</th>\n",
              "      <th>5%</th>\n",
              "      <th>50%</th>\n",
              "      <th>95%</th>\n",
              "      <th>N_Eff</th>\n",
              "      <th>N_Eff/s</th>\n",
              "      <th>R_hat</th>\n",
              "    </tr>\n",
              "    <tr>\n",
              "      <th>name</th>\n",
              "      <th></th>\n",
              "      <th></th>\n",
              "      <th></th>\n",
              "      <th></th>\n",
              "      <th></th>\n",
              "      <th></th>\n",
              "      <th></th>\n",
              "      <th></th>\n",
              "      <th></th>\n",
              "    </tr>\n",
              "  </thead>\n",
              "  <tbody>\n",
              "    <tr>\n",
              "      <th>lp__</th>\n",
              "      <td>-24.563200</td>\n",
              "      <td>0.051516</td>\n",
              "      <td>1.276050</td>\n",
              "      <td>-26.978600</td>\n",
              "      <td>-24.207800</td>\n",
              "      <td>-23.339500</td>\n",
              "      <td>613.544</td>\n",
              "      <td>1319.45</td>\n",
              "      <td>1.00678</td>\n",
              "    </tr>\n",
              "    <tr>\n",
              "      <th>theta1</th>\n",
              "      <td>0.050729</td>\n",
              "      <td>0.001027</td>\n",
              "      <td>0.034655</td>\n",
              "      <td>0.005543</td>\n",
              "      <td>0.045237</td>\n",
              "      <td>0.117389</td>\n",
              "      <td>1138.720</td>\n",
              "      <td>2448.86</td>\n",
              "      <td>0.99939</td>\n",
              "    </tr>\n",
              "    <tr>\n",
              "      <th>theta2</th>\n",
              "      <td>0.076784</td>\n",
              "      <td>0.001311</td>\n",
              "      <td>0.044255</td>\n",
              "      <td>0.010736</td>\n",
              "      <td>0.073204</td>\n",
              "      <td>0.156671</td>\n",
              "      <td>1139.570</td>\n",
              "      <td>2450.70</td>\n",
              "      <td>1.00410</td>\n",
              "    </tr>\n",
              "  </tbody>\n",
              "</table>\n",
              "</div>\n",
              "      <button class=\"colab-df-convert\" onclick=\"convertToInteractive('df-efe3e658-450b-407f-93ad-ef6bf843d3cc')\"\n",
              "              title=\"Convert this dataframe to an interactive table.\"\n",
              "              style=\"display:none;\">\n",
              "        \n",
              "  <svg xmlns=\"http://www.w3.org/2000/svg\" height=\"24px\"viewBox=\"0 0 24 24\"\n",
              "       width=\"24px\">\n",
              "    <path d=\"M0 0h24v24H0V0z\" fill=\"none\"/>\n",
              "    <path d=\"M18.56 5.44l.94 2.06.94-2.06 2.06-.94-2.06-.94-.94-2.06-.94 2.06-2.06.94zm-11 1L8.5 8.5l.94-2.06 2.06-.94-2.06-.94L8.5 2.5l-.94 2.06-2.06.94zm10 10l.94 2.06.94-2.06 2.06-.94-2.06-.94-.94-2.06-.94 2.06-2.06.94z\"/><path d=\"M17.41 7.96l-1.37-1.37c-.4-.4-.92-.59-1.43-.59-.52 0-1.04.2-1.43.59L10.3 9.45l-7.72 7.72c-.78.78-.78 2.05 0 2.83L4 21.41c.39.39.9.59 1.41.59.51 0 1.02-.2 1.41-.59l7.78-7.78 2.81-2.81c.8-.78.8-2.07 0-2.86zM5.41 20L4 18.59l7.72-7.72 1.47 1.35L5.41 20z\"/>\n",
              "  </svg>\n",
              "      </button>\n",
              "      \n",
              "  <style>\n",
              "    .colab-df-container {\n",
              "      display:flex;\n",
              "      flex-wrap:wrap;\n",
              "      gap: 12px;\n",
              "    }\n",
              "\n",
              "    .colab-df-convert {\n",
              "      background-color: #E8F0FE;\n",
              "      border: none;\n",
              "      border-radius: 50%;\n",
              "      cursor: pointer;\n",
              "      display: none;\n",
              "      fill: #1967D2;\n",
              "      height: 32px;\n",
              "      padding: 0 0 0 0;\n",
              "      width: 32px;\n",
              "    }\n",
              "\n",
              "    .colab-df-convert:hover {\n",
              "      background-color: #E2EBFA;\n",
              "      box-shadow: 0px 1px 2px rgba(60, 64, 67, 0.3), 0px 1px 3px 1px rgba(60, 64, 67, 0.15);\n",
              "      fill: #174EA6;\n",
              "    }\n",
              "\n",
              "    [theme=dark] .colab-df-convert {\n",
              "      background-color: #3B4455;\n",
              "      fill: #D2E3FC;\n",
              "    }\n",
              "\n",
              "    [theme=dark] .colab-df-convert:hover {\n",
              "      background-color: #434B5C;\n",
              "      box-shadow: 0px 1px 3px 1px rgba(0, 0, 0, 0.15);\n",
              "      filter: drop-shadow(0px 1px 2px rgba(0, 0, 0, 0.3));\n",
              "      fill: #FFFFFF;\n",
              "    }\n",
              "  </style>\n",
              "\n",
              "      <script>\n",
              "        const buttonEl =\n",
              "          document.querySelector('#df-efe3e658-450b-407f-93ad-ef6bf843d3cc button.colab-df-convert');\n",
              "        buttonEl.style.display =\n",
              "          google.colab.kernel.accessAllowed ? 'block' : 'none';\n",
              "\n",
              "        async function convertToInteractive(key) {\n",
              "          const element = document.querySelector('#df-efe3e658-450b-407f-93ad-ef6bf843d3cc');\n",
              "          const dataTable =\n",
              "            await google.colab.kernel.invokeFunction('convertToInteractive',\n",
              "                                                     [key], {});\n",
              "          if (!dataTable) return;\n",
              "\n",
              "          const docLinkHtml = 'Like what you see? Visit the ' +\n",
              "            '<a target=\"_blank\" href=https://colab.research.google.com/notebooks/data_table.ipynb>data table notebook</a>'\n",
              "            + ' to learn more about interactive tables.';\n",
              "          element.innerHTML = '';\n",
              "          dataTable['output_type'] = 'display_data';\n",
              "          await google.colab.output.renderOutput(dataTable, element);\n",
              "          const docLink = document.createElement('div');\n",
              "          docLink.innerHTML = docLinkHtml;\n",
              "          element.appendChild(docLink);\n",
              "        }\n",
              "      </script>\n",
              "    </div>\n",
              "  </div>\n",
              "  "
            ]
          },
          "metadata": {},
          "execution_count": 10
        }
      ]
    },
    {
      "cell_type": "code",
      "source": [
        "import arviz as az\n",
        "import matplotlib.pyplot as plt\n",
        "import numpy as np"
      ],
      "metadata": {
        "id": "bgJMfzBa-uPo"
      },
      "execution_count": 11,
      "outputs": []
    },
    {
      "cell_type": "code",
      "source": [
        "inf_data = az.convert_to_inference_data(fit)"
      ],
      "metadata": {
        "id": "NkElgVDWsHpi"
      },
      "execution_count": 12,
      "outputs": []
    },
    {
      "cell_type": "code",
      "source": [
        "# rename variables for clarity\n",
        "inf_data.rename({\"theta1\": \"tau\", \"theta2\": \"liquidity_utilization\"}, inplace=True)"
      ],
      "metadata": {
        "id": "EAKUKqwQjlJ3"
      },
      "execution_count": 13,
      "outputs": []
    },
    {
      "cell_type": "code",
      "source": [
        "print(f\"a value of .02 tau = {(.02 * 31536000) / (60*60*24)} days\")"
      ],
      "metadata": {
        "colab": {
          "base_uri": "https://localhost:8080/"
        },
        "id": "jOqQemUhp9qO",
        "outputId": "13bda5ed-138e-4ba2-a879-cc607e0d721f"
      },
      "execution_count": 14,
      "outputs": [
        {
          "output_type": "stream",
          "name": "stdout",
          "text": [
            "a value of .02 tau = 7.3 days\n"
          ]
        }
      ]
    },
    {
      "cell_type": "code",
      "source": [
        "az.style.use(\"arviz-darkgrid\")\n",
        "az.plot_kde(y1, y2, hdi_probs= [0.25, .5, .75, .95])\n",
        "plt.title(\"Contour Plot of RMM Liquidity Utilization (Prior Distribution)\")\n",
        "plt.xlabel(\"tau (.02 tau = 7.3 days\")\n",
        "plt.ylabel(\"Liqudity Swap Utilization\")\n",
        "plt.xlim([0, .08])\n",
        "plt.ylim([0, .5])\n",
        "plt.show()"
      ],
      "metadata": {
        "colab": {
          "base_uri": "https://localhost:8080/",
          "height": 508
        },
        "id": "5xzvLEhwP6ho",
        "outputId": "cda318a1-be44-4059-89a5-9dfbb26d6e37"
      },
      "execution_count": 28,
      "outputs": [
        {
          "output_type": "display_data",
          "data": {
            "text/plain": [
              "<Figure size 720x480 with 1 Axes>"
            ],
            "image/png": "[encoded data removed]"
          },
          "metadata": {}
        }
      ]
    },
    {
      "cell_type": "code",
      "source": [
        "print(f\"a value of .02 tau = {(.02 * 31536000) / (60*60*24)} days\")"
      ],
      "metadata": {
        "colab": {
          "base_uri": "https://localhost:8080/"
        },
        "id": "0_L5k8Lvp8z2",
        "outputId": "63b93223-1891-48bf-b79d-ce7721c7f451"
      },
      "execution_count": 29,
      "outputs": [
        {
          "output_type": "stream",
          "name": "stdout",
          "text": [
            "a value of .02 tau = 7.3 days\n"
          ]
        }
      ]
    },
    {
      "cell_type": "code",
      "source": [
        "az.plot_kde(inf_data.posterior.tau, inf_data.posterior.liquidity_utilization, hdi_probs= [0.25, .5, .75, .95])\n",
        "plt.title(\"RMM Liquidity Utilization (Posterior Distribution)\")\n",
        "plt.xlabel(\"tau (.02 tau = 7.3 days)\")\n",
        "plt.ylabel(\"Liqudity Swap Utilization\")\n",
        "plt.xlim([0, .08])\n",
        "plt.ylim([0, .5])\n",
        "plt.show()"
      ],
      "metadata": {
        "colab": {
          "base_uri": "https://localhost:8080/",
          "height": 508
        },
        "id": "Vax5fVpDBdns",
        "outputId": "d97df0f0-a93c-417e-b5a0-e62e782d2334"
      },
      "execution_count": 30,
      "outputs": [
        {
          "output_type": "display_data",
          "data": {
            "text/plain": [
              "<Figure size 720x480 with 1 Axes>"
            ],
            "image/png": "[encoded data removed]"
          },
          "metadata": {}
        }
      ]
    },
    {
      "cell_type": "code",
      "source": [
        "az.plot_pair(\n",
        "    inf_data,\n",
        "    var_names=[\"tau\", \"liquidity_utilization\"],\n",
        "    marginals=True,\n",
        "    kind='hexbin',\n",
        "    figsize=(7.5,5),\n",
        "    colorbar=True\n",
        ")\n",
        "\n",
        "plt.show()"
      ],
      "metadata": {
        "colab": {
          "base_uri": "https://localhost:8080/",
          "height": 528
        },
        "id": "1CdA_nQdhf1o",
        "outputId": "d933adb0-e084-4bbe-ed7f-04fc975c5431"
      },
      "execution_count": 23,
      "outputs": [
        {
          "output_type": "display_data",
          "data": {
            "text/plain": [
              "<Figure size 750x500 with 4 Axes>"
            ],
            "image/png": "[encoded data removed]"
          },
          "metadata": {}
        }
      ]
    }
  ]
}